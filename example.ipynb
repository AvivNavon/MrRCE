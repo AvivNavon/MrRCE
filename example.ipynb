{
 "cells": [
  {
   "cell_type": "code",
   "execution_count": 1,
   "metadata": {
    "collapsed": true
   },
   "outputs": [],
   "source": [
    "from mrrce import MrRCE\n",
    "from simulation_utils import generate_data, me\n",
    "import pandas as pd\n",
    "import numpy as np\n",
    "from sklearn.linear_model import LinearRegression, RidgeCV, MultiTaskLassoCV\n",
    "import matplotlib.pyplot as plt\n",
    "%matplotlib inline"
   ]
  },
  {
   "cell_type": "markdown",
   "metadata": {},
   "source": [
    "#### Navigate\n",
    "\n",
    "1. [Generate random dataset](#Generate-random-dataset)\n",
    "1. [Fit with CV](#Fit-with-CV)\n",
    "1. [Estimations](#Estimations)\n",
    "1. [Compare to other estimators](#Compare-to-other-estimators)\n",
    "1. [Fit with no CV](#Fit-with-no-CV)"
   ]
  },
  {
   "cell_type": "markdown",
   "metadata": {},
   "source": [
    "##### Generate random dataset"
   ]
  },
  {
   "cell_type": "code",
   "execution_count": 2,
   "metadata": {
    "collapsed": true
   },
   "outputs": [],
   "source": [
    "# settings\n",
    "params = dict(\n",
    "n = 50,                          # num obs\n",
    "p = 20,                          # num predictors\n",
    "q = 5,                           # num tasks\n",
    "sigma = 1,                       # coeff variance\n",
    "corr_x = .7,                     # grid of values for rho (correlation coefficient)\n",
    "sigma_err = 1,                   # correlation coefficient for predictors\n",
    "err_corr = .9,                   # correlation coefficient for errors\n",
    "g_sparse_level = .0,             # group sparsity level\n",
    "sparse_level = .0,               # sparsity level\n",
    "err_cov_type = 'ar'             # error covariance form. One of ['ar', 'equi', 'fgn', 'identity']\n",
    ")"
   ]
  },
  {
   "cell_type": "code",
   "execution_count": 3,
   "metadata": {
    "collapsed": true
   },
   "outputs": [],
   "source": [
    "np.random.seed(1)\n",
    "rho = .4 # correlation coefficient for coefficients\n",
    "X, Y, B, Sigma, Sigma_X = generate_data(rho = rho, **params)"
   ]
  },
  {
   "cell_type": "markdown",
   "metadata": {},
   "source": [
    "##### Fit with CV"
   ]
  },
  {
   "cell_type": "code",
   "execution_count": 4,
   "metadata": {
    "collapsed": true
   },
   "outputs": [],
   "source": [
    "m = MrRCE(max_iter=15, tol_glasso=.1, tol=1e-3, \n",
    "          cv=True, n_folds=3, n_lams=10, verbose=True) # init MrRCE"
   ]
  },
  {
   "cell_type": "code",
   "execution_count": 5,
   "metadata": {
    "scrolled": true
   },
   "outputs": [
    {
     "name": "stdout",
     "output_type": "stream",
     "text": [
      "Iter number 7 "
     ]
    }
   ],
   "source": [
    "m.fit(X, Y) # fit MrRCE"
   ]
  },
  {
   "cell_type": "markdown",
   "metadata": {},
   "source": [
    "##### Estimations"
   ]
  },
  {
   "cell_type": "code",
   "execution_count": 6,
   "metadata": {},
   "outputs": [
    {
     "data": {
      "text/plain": [
       "array([[-0.9364 , -0.82716, -0.31097,  1.10047,  1.52656],\n",
       "       [ 1.67784,  0.21784, -0.15372,  0.28456,  1.11545],\n",
       "       [ 0.61821, -0.43367, -2.09498,  0.32065, -0.74634],\n",
       "       [-0.64194, -0.16023,  1.33785,  1.28063, -0.95908],\n",
       "       [ 0.72821, -0.27804,  0.15327,  0.54571,  0.13871],\n",
       "       [-1.39322, -1.60243, -0.23998, -1.90058, -0.01088],\n",
       "       [ 0.63679, -1.18148, -0.10698, -0.87449,  0.12816],\n",
       "       [-0.03911,  0.80449,  0.8507 , -0.87633, -1.43986],\n",
       "       [ 0.50277,  2.04823,  2.10033,  1.33874,  1.87373],\n",
       "       [ 0.49486,  2.12479,  0.87403,  0.15572,  1.92681],\n",
       "       [ 1.33346,  0.5233 ,  0.45132,  1.8323 , -0.42377],\n",
       "       [-1.04615, -1.17159, -1.03068, -2.24563, -0.39959],\n",
       "       [-0.33494,  0.28132,  0.33921,  0.32351,  0.00905],\n",
       "       [-0.77962,  0.09586, -0.16656,  0.76871, -0.85234],\n",
       "       [ 2.55945,  2.35798,  0.43453, -0.20286,  2.23579],\n",
       "       [ 1.22466, -0.29032,  2.16176, -0.21328,  0.2569 ],\n",
       "       [ 0.67837, -0.69098, -0.65183, -0.95816, -0.63872],\n",
       "       [-0.93188,  0.65953,  0.3759 ,  0.62055,  0.72458],\n",
       "       [-1.13005, -0.87596, -0.88419, -1.38652, -0.72769],\n",
       "       [ 0.49592,  0.80772, -0.34033, -0.12014,  0.43766]])"
      ]
     },
     "execution_count": 6,
     "metadata": {},
     "output_type": "execute_result"
    }
   ],
   "source": [
    "# coefficient matrix\n",
    "B.round(5)"
   ]
  },
  {
   "cell_type": "code",
   "execution_count": 7,
   "metadata": {},
   "outputs": [
    {
     "data": {
      "text/plain": [
       "array([[-1.02498, -0.90094, -0.28147,  1.20656,  1.62085],\n",
       "       [ 1.35481,  0.07742,  0.52815,  0.39366,  1.47878],\n",
       "       [ 0.73136, -0.52513, -1.94865,  0.38004, -0.83299],\n",
       "       [-0.68438, -0.10308,  0.97151,  1.34098, -0.87277],\n",
       "       [ 0.89422, -0.19545,  0.19073,  0.55569, -0.07094],\n",
       "       [-1.31694, -1.3362 , -0.71654, -1.92243, -0.0908 ],\n",
       "       [ 0.57933, -1.09517, -0.06132, -1.00913,  0.17214],\n",
       "       [-0.25145,  0.61121,  1.2484 , -0.7619 , -1.15521],\n",
       "       [ 0.60714,  1.99345,  1.92364,  1.2347 ,  1.67217],\n",
       "       [ 0.69856,  2.25745,  0.97307,  0.28633,  1.91231],\n",
       "       [ 1.07939,  0.37042,  0.74046,  1.86818, -0.23343],\n",
       "       [-0.97872, -1.05327, -1.36681, -2.37766, -0.56488],\n",
       "       [-0.39077,  0.16203,  0.80881,  0.6807 ,  0.34179],\n",
       "       [-0.61307,  0.3012 , -0.62988,  0.51438, -0.94209],\n",
       "       [ 2.47876,  2.12303,  0.70562, -0.17664,  2.07426],\n",
       "       [ 1.30607, -0.11859,  1.84084, -0.22512,  0.30023],\n",
       "       [ 0.39209, -0.75225, -0.32123, -0.7455 , -0.43789],\n",
       "       [-0.94016,  0.56498,  0.61024,  0.60347,  0.75286],\n",
       "       [-0.97509, -0.74582, -1.07912, -1.31432, -0.6453 ],\n",
       "       [ 0.45492,  0.69976, -0.36101, -0.17321,  0.39334]])"
      ]
     },
     "execution_count": 7,
     "metadata": {},
     "output_type": "execute_result"
    }
   ],
   "source": [
    "m.B_hat.round(5) # coefficient matrix"
   ]
  },
  {
   "cell_type": "code",
   "execution_count": 8,
   "metadata": {},
   "outputs": [
    {
     "name": "stdout",
     "output_type": "stream",
     "text": [
      "True (sigma, rho) = (1, 0.4)\n",
      "Estimated (sigma, rho) = (1.060, 0.418)\n"
     ]
    }
   ],
   "source": [
    "print('True (sigma, rho) = ({sig}, {rho})\\nEstimated (sigma, rho) = ({est_sig:.3f}, {est_rho:.3f})'.\\\n",
    "      format(sig = params['sigma'], rho = rho, est_sig = m.sigma, est_rho = m.rho))"
   ]
  },
  {
   "cell_type": "code",
   "execution_count": 9,
   "metadata": {},
   "outputs": [
    {
     "data": {
      "text/plain": [
       "array([[ 0.28   ,  0.22217, -0.73113, -0.16708, -0.40396],\n",
       "       [ 0.22217,  0.45187, -0.85959, -0.05453, -0.32333],\n",
       "       [-0.73113, -0.85959,  3.0233 ,  0.49361,  1.41024],\n",
       "       [-0.16708, -0.05453,  0.49361,  0.34337,  0.41362],\n",
       "       [-0.40396, -0.32333,  1.41024,  0.41362,  0.90146]])"
      ]
     },
     "execution_count": 9,
     "metadata": {},
     "output_type": "execute_result"
    }
   ],
   "source": [
    "# transform Sigma\n",
    "Sigma.round(5)"
   ]
  },
  {
   "cell_type": "code",
   "execution_count": 10,
   "metadata": {},
   "outputs": [
    {
     "data": {
      "text/plain": [
       "array([[ 0.12843,  0.0817 , -0.25172, -0.0625 , -0.12958],\n",
       "       [ 0.0817 ,  0.32496, -0.52163, -0.02291, -0.12003],\n",
       "       [-0.25172, -0.52163,  1.78125,  0.28318,  0.6322 ],\n",
       "       [-0.0625 , -0.02291,  0.28318,  0.24294,  0.22089],\n",
       "       [-0.12958, -0.12003,  0.6322 ,  0.22089,  0.43894]])"
      ]
     },
     "execution_count": 10,
     "metadata": {},
     "output_type": "execute_result"
    }
   ],
   "source": [
    "# estimated transformed Sigma\n",
    "m.Sigma.round(5)"
   ]
  },
  {
   "cell_type": "markdown",
   "metadata": {},
   "source": [
    "##### Compare to other estimators"
   ]
  },
  {
   "cell_type": "code",
   "execution_count": 11,
   "metadata": {
    "collapsed": true
   },
   "outputs": [],
   "source": [
    "# OLS\n",
    "lm = LinearRegression(fit_intercept=False).fit(X, Y)\n",
    "B_ols = np.matrix(lm.coef_.T)\n",
    "# Ridge\n",
    "ridge = RidgeCV(fit_intercept=False).fit(X, Y)\n",
    "B_ridge = np.matrix(ridge.coef_.T)\n",
    "# Group Lasso\n",
    "gl = MultiTaskLassoCV(fit_intercept=False).fit(X, Y)\n",
    "B_gl = np.matrix(gl.coef_.T)"
   ]
  },
  {
   "cell_type": "code",
   "execution_count": 12,
   "metadata": {},
   "outputs": [
    {
     "name": "stdout",
     "output_type": "stream",
     "text": [
      "\n",
      "Model Error:\n",
      "============\n",
      "MrRCE: 1.809\n",
      "OLS: 3.299\n",
      "GL: 2.640\n",
      "Ridge: 2.759\n",
      "\n"
     ]
    }
   ],
   "source": [
    "# Model Error\n",
    "print(\n",
    "\"\"\"\n",
    "Model Error:\n",
    "============\n",
    "MrRCE: {mrrce:.3f}\n",
    "OLS: {ols:.3f}\n",
    "GL: {gl:.3f}\n",
    "Ridge: {ridge:.3f}\n",
    "\"\"\".format(mrrce = me(B, m.B_hat, Sigma_X), # me for Model Error\n",
    "           ols = me(B, B_ols, Sigma_X),\n",
    "           gl = me(B, B_gl, Sigma_X),\n",
    "           ridge = me(B, B_ridge, Sigma_X))\n",
    ")"
   ]
  },
  {
   "cell_type": "markdown",
   "metadata": {},
   "source": [
    "##### Fit with no CV"
   ]
  },
  {
   "cell_type": "code",
   "execution_count": 13,
   "metadata": {
    "collapsed": true
   },
   "outputs": [],
   "source": [
    "m = MrRCE(max_iter=15, tol_glasso=.1, tol=1e-3, \n",
    "          cv=False, lam=.15, verbose=True) # init MrRCE"
   ]
  },
  {
   "cell_type": "code",
   "execution_count": 14,
   "metadata": {},
   "outputs": [
    {
     "name": "stdout",
     "output_type": "stream",
     "text": [
      "Iter number 6 "
     ]
    }
   ],
   "source": [
    "m.fit(X, Y) # fit MrRCE"
   ]
  },
  {
   "cell_type": "code",
   "execution_count": 15,
   "metadata": {
    "scrolled": true
   },
   "outputs": [
    {
     "data": {
      "text/plain": [
       "array([[-1.00955, -0.90369, -0.24141,  1.19168,  1.64201],\n",
       "       [ 1.31876,  0.07282,  0.54153,  0.43574,  1.48373],\n",
       "       [ 0.74853, -0.50967, -2.03653,  0.35154, -0.90209],\n",
       "       [-0.66698, -0.13144,  1.08021,  1.33318, -0.75903],\n",
       "       [ 0.87902, -0.17317,  0.12417,  0.54371, -0.13882],\n",
       "       [-1.31094, -1.34602, -0.6879 , -1.90349, -0.08126],\n",
       "       [ 0.54822, -1.06665, -0.09282, -0.99677,  0.13075],\n",
       "       [-0.23658,  0.59123,  1.28382, -0.76492, -1.08116],\n",
       "       [ 0.60981,  1.98653,  1.93961,  1.2271 ,  1.67329],\n",
       "       [ 0.70605,  2.24836,  0.9468 ,  0.30131,  1.85305],\n",
       "       [ 1.06147,  0.39836,  0.71773,  1.83909, -0.20532],\n",
       "       [-0.97551, -1.04075, -1.39038, -2.36607, -0.59011],\n",
       "       [-0.38465,  0.13564,  0.88191,  0.68193,  0.39596],\n",
       "       [-0.58744,  0.30484, -0.63163,  0.48659, -0.894  ],\n",
       "       [ 2.4531 ,  2.12624,  0.63625, -0.15047,  1.9838 ],\n",
       "       [ 1.29177, -0.11869,  1.90312, -0.22189,  0.38115],\n",
       "       [ 0.36916, -0.73989, -0.3904 , -0.73137, -0.52953],\n",
       "       [-0.90916,  0.53254,  0.67901,  0.59915,  0.7957 ],\n",
       "       [-0.9557 , -0.73756, -1.06101, -1.33247, -0.60987],\n",
       "       [ 0.43903,  0.70208, -0.39244, -0.15907,  0.36208]])"
      ]
     },
     "execution_count": 15,
     "metadata": {},
     "output_type": "execute_result"
    }
   ],
   "source": [
    "m.B_hat.round(5) # coefficient matrix"
   ]
  },
  {
   "cell_type": "code",
   "execution_count": 16,
   "metadata": {},
   "outputs": [
    {
     "name": "stdout",
     "output_type": "stream",
     "text": [
      "\n",
      "Model Error:\n",
      "============\n",
      "MrRCE (no CV): 1.928\n",
      "OLS: 3.299\n",
      "GL: 2.640\n",
      "Ridge: 2.759\n",
      "\n"
     ]
    }
   ],
   "source": [
    "# Model Error\n",
    "print(\n",
    "\"\"\"\n",
    "Model Error:\n",
    "============\n",
    "MrRCE (no CV): {mrrce:.3f}\n",
    "OLS: {ols:.3f}\n",
    "GL: {gl:.3f}\n",
    "Ridge: {ridge:.3f}\n",
    "\"\"\".format(mrrce = me(B, m.B_hat, Sigma_X), # me for Model Error\n",
    "           ols = me(B, B_ols, Sigma_X),\n",
    "           gl = me(B, B_gl, Sigma_X),\n",
    "           ridge = me(B, B_ridge, Sigma_X))\n",
    ")"
   ]
  }
 ],
 "metadata": {
  "anaconda-cloud": {},
  "kernelspec": {
   "display_name": "Python [default]",
   "language": "python",
   "name": "python3"
  },
  "language_info": {
   "codemirror_mode": {
    "name": "ipython",
    "version": 3
   },
   "file_extension": ".py",
   "mimetype": "text/x-python",
   "name": "python",
   "nbconvert_exporter": "python",
   "pygments_lexer": "ipython3",
   "version": "3.5.6"
  }
 },
 "nbformat": 4,
 "nbformat_minor": 2
}
