{
 "cells": [
  {
   "cell_type": "code",
   "execution_count": 1,
   "metadata": {},
   "outputs": [],
   "source": [
    "from mrrce import MrRCE\n",
    "from simulation_utils import generate_data, me\n",
    "import pandas as pd\n",
    "import numpy as np\n",
    "from sklearn.linear_model import LinearRegression, RidgeCV, MultiTaskLassoCV\n",
    "import matplotlib.pyplot as plt\n",
    "%matplotlib inline"
   ]
  },
  {
   "cell_type": "markdown",
   "metadata": {},
   "source": [
    "##### Generate Random Dataset"
   ]
  },
  {
   "cell_type": "code",
   "execution_count": 2,
   "metadata": {
    "collapsed": true
   },
   "outputs": [],
   "source": [
    "# settings\n",
    "params = dict(\n",
    "n = 50,                          # num obs\n",
    "p = 20,                          # num predictors\n",
    "q = 5,                           # num tasks\n",
    "sigma = 1,                       # coeff variance\n",
    "corr_x = .7,                     # grid of values for rho (correlation coefficient)\n",
    "sigma_err = 1,                   # correlation coefficient for predictors\n",
    "err_corr = .9,                   # correlation coefficient for errors\n",
    "g_sparse_level = .0,             # group sparsity level\n",
    "sparse_level = .0,               # sparsity level\n",
    "err_cov_type = 'ar'             # error covariance form. One of ['ar', 'equi', 'fgn', 'identity']\n",
    ")"
   ]
  },
  {
   "cell_type": "code",
   "execution_count": 3,
   "metadata": {},
   "outputs": [],
   "source": [
    "np.random.seed(1)\n",
    "rho = .4 # correlation coefficient for coefficients\n",
    "X, Y, B, Sigma, Sigma_X = generate_data(rho = rho, **params)"
   ]
  },
  {
   "cell_type": "markdown",
   "metadata": {},
   "source": [
    "##### Fit"
   ]
  },
  {
   "cell_type": "code",
   "execution_count": 4,
   "metadata": {
    "collapsed": true
   },
   "outputs": [],
   "source": [
    "m = MrRCE(max_iter=15, tol_glasso=.1, tol=1e-3, n_lams=10, verbose=True) # init MrRCE"
   ]
  },
  {
   "cell_type": "code",
   "execution_count": 5,
   "metadata": {
    "scrolled": true
   },
   "outputs": [
    {
     "name": "stdout",
     "output_type": "stream",
     "text": [
      "Iter number 7 "
     ]
    }
   ],
   "source": [
    "m.fit(X, Y) # fit MrRCE"
   ]
  },
  {
   "cell_type": "markdown",
   "metadata": {},
   "source": [
    "##### Estimations"
   ]
  },
  {
   "cell_type": "code",
   "execution_count": 6,
   "metadata": {},
   "outputs": [
    {
     "data": {
      "text/plain": [
       "array([[-1.02498, -0.90094, -0.28147,  1.20656,  1.62085]])"
      ]
     },
     "execution_count": 6,
     "metadata": {},
     "output_type": "execute_result"
    }
   ],
   "source": [
    "m.B_hat[:1].round(5) # coefficient matrix"
   ]
  },
  {
   "cell_type": "code",
   "execution_count": 7,
   "metadata": {},
   "outputs": [
    {
     "data": {
      "text/plain": [
       "array([[-0.9364 , -0.82716, -0.31097,  1.10047,  1.52656]])"
      ]
     },
     "execution_count": 7,
     "metadata": {},
     "output_type": "execute_result"
    }
   ],
   "source": [
    "B[:1].round(5)"
   ]
  },
  {
   "cell_type": "code",
   "execution_count": 8,
   "metadata": {},
   "outputs": [
    {
     "name": "stdout",
     "output_type": "stream",
     "text": [
      "True (sigma, rho) = (1, 0.4)\n",
      "Estimated (sigma, rho) = (1.060, 0.418)\n"
     ]
    }
   ],
   "source": [
    "print('True (sigma, rho) = ({sig}, {rho})\\nEstimated (sigma, rho) = ({est_sig:.3f}, {est_rho:.3f})'.\\\n",
    "      format(sig = params['sigma'], rho = rho, est_sig = m.sigma, est_rho = m.rho))"
   ]
  },
  {
   "cell_type": "code",
   "execution_count": 9,
   "metadata": {},
   "outputs": [
    {
     "data": {
      "text/plain": [
       "array([[ 0.28   ,  0.22217, -0.73113, -0.16708, -0.40396],\n",
       "       [ 0.22217,  0.45187, -0.85959, -0.05453, -0.32333],\n",
       "       [-0.73113, -0.85959,  3.0233 ,  0.49361,  1.41024],\n",
       "       [-0.16708, -0.05453,  0.49361,  0.34337,  0.41362],\n",
       "       [-0.40396, -0.32333,  1.41024,  0.41362,  0.90146]])"
      ]
     },
     "execution_count": 9,
     "metadata": {},
     "output_type": "execute_result"
    }
   ],
   "source": [
    "# transform Sigma\n",
    "Sigma.round(5)"
   ]
  },
  {
   "cell_type": "code",
   "execution_count": 10,
   "metadata": {},
   "outputs": [
    {
     "data": {
      "text/plain": [
       "array([[ 0.12843,  0.0817 , -0.25172, -0.0625 , -0.12958],\n",
       "       [ 0.0817 ,  0.32496, -0.52163, -0.02291, -0.12003],\n",
       "       [-0.25172, -0.52163,  1.78125,  0.28318,  0.6322 ],\n",
       "       [-0.0625 , -0.02291,  0.28318,  0.24294,  0.22089],\n",
       "       [-0.12958, -0.12003,  0.6322 ,  0.22089,  0.43894]])"
      ]
     },
     "execution_count": 10,
     "metadata": {},
     "output_type": "execute_result"
    }
   ],
   "source": [
    "# estimated transformed Sigma\n",
    "m.Sigma.round(5)"
   ]
  },
  {
   "cell_type": "markdown",
   "metadata": {},
   "source": [
    "##### Compare to other estimators"
   ]
  },
  {
   "cell_type": "code",
   "execution_count": 11,
   "metadata": {
    "collapsed": true
   },
   "outputs": [],
   "source": [
    "# OLS\n",
    "lm = LinearRegression(fit_intercept=False).fit(X, Y)\n",
    "B_ols = np.matrix(lm.coef_.T)\n",
    "# Ridge\n",
    "ridge = RidgeCV(fit_intercept=False).fit(X, Y)\n",
    "B_ridge = np.matrix(ridge.coef_.T)\n",
    "# Group Lasso\n",
    "gl = MultiTaskLassoCV(fit_intercept=False).fit(X, Y)\n",
    "B_gl = np.matrix(gl.coef_.T)"
   ]
  },
  {
   "cell_type": "code",
   "execution_count": 12,
   "metadata": {},
   "outputs": [
    {
     "name": "stdout",
     "output_type": "stream",
     "text": [
      "\n",
      "Model Error:\n",
      "============\n",
      "MrRCE: 1.809\n",
      "OLS: 3.299\n",
      "GL: 2.640\n",
      "Ridge: 2.759\n",
      "\n"
     ]
    }
   ],
   "source": [
    "# Model Error\n",
    "print(\n",
    "\"\"\"\n",
    "Model Error:\n",
    "============\n",
    "MrRCE: {mrrce:.3f}\n",
    "OLS: {ols:.3f}\n",
    "GL: {gl:.3f}\n",
    "Ridge: {ridge:.3f}\n",
    "\"\"\".format(mrrce = me(B, m.B_hat, Sigma_X), # me for Model Error\n",
    "           ols = me(B, B_ols, Sigma_X),\n",
    "           gl = me(B, B_gl, Sigma_X),\n",
    "           ridge = me(B, B_ridge, Sigma_X))\n",
    ")"
   ]
  }
 ],
 "metadata": {
  "anaconda-cloud": {},
  "kernelspec": {
   "display_name": "Python [default]",
   "language": "python",
   "name": "python3"
  },
  "language_info": {
   "codemirror_mode": {
    "name": "ipython",
    "version": 3
   },
   "file_extension": ".py",
   "mimetype": "text/x-python",
   "name": "python",
   "nbconvert_exporter": "python",
   "pygments_lexer": "ipython3",
   "version": "3.5.6"
  }
 },
 "nbformat": 4,
 "nbformat_minor": 2
}
