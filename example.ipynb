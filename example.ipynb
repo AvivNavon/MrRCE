{
 "cells": [
  {
   "cell_type": "code",
   "execution_count": 1,
   "metadata": {},
   "outputs": [],
   "source": [
    "import warnings\n",
    "warnings.filterwarnings(\"ignore\")"
   ]
  },
  {
   "cell_type": "code",
   "execution_count": 2,
   "metadata": {},
   "outputs": [],
   "source": [
    "from mrrce import MrRCE\n",
    "from simulations.simulation_utils import generate_data, model_error\n",
    "import pandas as pd\n",
    "import numpy as np\n",
    "from sklearn.linear_model import LinearRegression, RidgeCV, MultiTaskLassoCV\n",
    "import matplotlib.pyplot as plt\n",
    "%matplotlib inline"
   ]
  },
  {
   "cell_type": "markdown",
   "metadata": {},
   "source": [
    "#### Navigate\n",
    "\n",
    "1. [Generate random dataset](#Generate-random-dataset)\n",
    "1. [Fit with CV](#Fit-with-CV)\n",
    "1. [Estimations](#Estimations)\n",
    "1. [Compare to other estimators](#Compare-to-other-estimators)\n",
    "1. [Fit with no CV](#Fit-with-no-CV)"
   ]
  },
  {
   "cell_type": "markdown",
   "metadata": {},
   "source": [
    "##### Generate random dataset"
   ]
  },
  {
   "cell_type": "code",
   "execution_count": 3,
   "metadata": {},
   "outputs": [],
   "source": [
    "# settings\n",
    "params = dict(\n",
    "n = 50,                          # num obs\n",
    "p = 20,                          # num predictors\n",
    "q = 5,                           # num tasks\n",
    "sigma = 1,                       # coeff variance\n",
    "corr_x = .7,                     # grid of values for rho (correlation coefficient)\n",
    "sigma_err = 1,                   # correlation coefficient for predictors\n",
    "err_corr = .9,                   # correlation coefficient for errors\n",
    "g_sparse_level = .0,             # group sparsity level\n",
    "sparse_level = .0,               # sparsity level\n",
    "err_cov_type = 'ar'             # error covariance form. One of ['ar', 'equi', 'fgn', 'identity']\n",
    ")"
   ]
  },
  {
   "cell_type": "code",
   "execution_count": 4,
   "metadata": {},
   "outputs": [],
   "source": [
    "np.random.seed(1)\n",
    "rho = .4 # correlation coefficient for coefficients\n",
    "X, Y, B, Sigma, Sigma_X = generate_data(rho = rho, **params)"
   ]
  },
  {
   "cell_type": "markdown",
   "metadata": {},
   "source": [
    "##### Fit with CV"
   ]
  },
  {
   "cell_type": "code",
   "execution_count": 5,
   "metadata": {},
   "outputs": [],
   "source": [
    "m = MrRCE(\n",
    "    max_iter=15, \n",
    "    tol_glasso=.1, \n",
    "    tol=1e-3, \n",
    "    glasso_cv=True, \n",
    "    n_folds=3, \n",
    "    n_lams=10, \n",
    "    verbose=True\n",
    ") # init MrRCE"
   ]
  },
  {
   "cell_type": "code",
   "execution_count": 6,
   "metadata": {
    "scrolled": true
   },
   "outputs": [
    {
     "name": "stderr",
     "output_type": "stream",
     "text": [
      "INFO:root:iter 1, loss 39.402175\n",
      "INFO:root:iter 2, loss 35.887994\n",
      "INFO:root:iter 3, loss 35.228853\n",
      "INFO:root:iter 4, loss 35.056097\n",
      "INFO:root:iter 5, loss 35.019021\n",
      "INFO:root:iter 6, loss 34.994457\n"
     ]
    }
   ],
   "source": [
    "m.fit(X, Y) # fit MrRCE"
   ]
  },
  {
   "cell_type": "markdown",
   "metadata": {},
   "source": [
    "##### Estimations"
   ]
  },
  {
   "cell_type": "code",
   "execution_count": 7,
   "metadata": {},
   "outputs": [
    {
     "data": {
      "text/plain": [
       "array([[-0.9364 , -0.82716, -0.31097,  1.10047,  1.52656],\n",
       "       [ 1.67784,  0.21784, -0.15372,  0.28456,  1.11545],\n",
       "       [ 0.61821, -0.43367, -2.09498,  0.32065, -0.74634],\n",
       "       [-0.64194, -0.16023,  1.33785,  1.28063, -0.95908],\n",
       "       [ 0.72821, -0.27804,  0.15327,  0.54571,  0.13871],\n",
       "       [-1.39322, -1.60243, -0.23998, -1.90058, -0.01088],\n",
       "       [ 0.63679, -1.18148, -0.10698, -0.87449,  0.12816],\n",
       "       [-0.03911,  0.80449,  0.8507 , -0.87633, -1.43986],\n",
       "       [ 0.50277,  2.04823,  2.10033,  1.33874,  1.87373],\n",
       "       [ 0.49486,  2.12479,  0.87403,  0.15572,  1.92681],\n",
       "       [ 1.33346,  0.5233 ,  0.45132,  1.8323 , -0.42377],\n",
       "       [-1.04615, -1.17159, -1.03068, -2.24563, -0.39959],\n",
       "       [-0.33494,  0.28132,  0.33921,  0.32351,  0.00905],\n",
       "       [-0.77962,  0.09586, -0.16656,  0.76871, -0.85234],\n",
       "       [ 2.55945,  2.35798,  0.43453, -0.20286,  2.23579],\n",
       "       [ 1.22466, -0.29032,  2.16176, -0.21328,  0.2569 ],\n",
       "       [ 0.67837, -0.69098, -0.65183, -0.95816, -0.63872],\n",
       "       [-0.93188,  0.65953,  0.3759 ,  0.62055,  0.72458],\n",
       "       [-1.13005, -0.87596, -0.88419, -1.38652, -0.72769],\n",
       "       [ 0.49592,  0.80772, -0.34033, -0.12014,  0.43766]])"
      ]
     },
     "execution_count": 7,
     "metadata": {},
     "output_type": "execute_result"
    }
   ],
   "source": [
    "# coefficient matrix\n",
    "B.round(5)"
   ]
  },
  {
   "cell_type": "code",
   "execution_count": 8,
   "metadata": {},
   "outputs": [
    {
     "data": {
      "text/plain": [
       "array([[-1.02889, -0.90387, -0.26679,  1.21359,  1.62937],\n",
       "       [ 1.35627,  0.07374,  0.52962,  0.38665,  1.47475],\n",
       "       [ 0.73702, -0.51402, -1.98329,  0.37549, -0.84382],\n",
       "       [-0.69373, -0.11328,  1.01238,  1.35226, -0.85822],\n",
       "       [ 0.90025, -0.19017,  0.16559,  0.54973, -0.08027],\n",
       "       [-1.31956, -1.33835, -0.70499, -1.92027, -0.08498],\n",
       "       [ 0.58362, -1.09499, -0.07234, -1.01431,  0.16697],\n",
       "       [-0.25606,  0.60668,  1.27097, -0.75645, -1.14898],\n",
       "       [ 0.60632,  1.99315,  1.92343,  1.23539,  1.67268],\n",
       "       [ 0.7014 ,  2.26436,  0.95187,  0.28101,  1.90697],\n",
       "       [ 1.08116,  0.36784,  0.74169,  1.86902, -0.23682],\n",
       "       [-0.97792, -1.0523 , -1.36444, -2.37643, -0.56168],\n",
       "       [-0.3961 ,  0.15647,  0.82724,  0.68465,  0.34811],\n",
       "       [-0.61545,  0.30109, -0.61841,  0.52156, -0.93745],\n",
       "       [ 2.48687,  2.13161,  0.6652 , -0.1914 ,  2.05732],\n",
       "       [ 1.30188, -0.12781,  1.86845, -0.22011,  0.30709],\n",
       "       [ 0.3988 , -0.74639, -0.35113, -0.75602, -0.44931],\n",
       "       [-0.94643,  0.56275,  0.62775,  0.61049,  0.76238],\n",
       "       [-0.97864, -0.74863, -1.06035, -1.30554, -0.63594],\n",
       "       [ 0.45898,  0.70341, -0.37969, -0.18077,  0.38424]])"
      ]
     },
     "execution_count": 8,
     "metadata": {},
     "output_type": "execute_result"
    }
   ],
   "source": [
    "m.Gamma.round(5) # coefficient matrix"
   ]
  },
  {
   "cell_type": "code",
   "execution_count": 10,
   "metadata": {},
   "outputs": [
    {
     "name": "stdout",
     "output_type": "stream",
     "text": [
      "True (sigma, rho) = (1, 0.4)\n",
      "Estimated (sigma, rho) = (1.038, 0.435)\n"
     ]
    }
   ],
   "source": [
    "print(f\"True (sigma, rho) = ({params['sigma']}, {rho})\\nEstimated (sigma, rho) = ({m.sigma:.3f}, {m.rho:.3f})\")"
   ]
  },
  {
   "cell_type": "code",
   "execution_count": 11,
   "metadata": {},
   "outputs": [
    {
     "data": {
      "text/plain": [
       "array([[ 0.28   ,  0.22217, -0.73113, -0.16708, -0.40396],\n",
       "       [ 0.22217,  0.45187, -0.85959, -0.05453, -0.32333],\n",
       "       [-0.73113, -0.85959,  3.0233 ,  0.49361,  1.41024],\n",
       "       [-0.16708, -0.05453,  0.49361,  0.34337,  0.41362],\n",
       "       [-0.40396, -0.32333,  1.41024,  0.41362,  0.90146]])"
      ]
     },
     "execution_count": 11,
     "metadata": {},
     "output_type": "execute_result"
    }
   ],
   "source": [
    "# transform Sigma\n",
    "Sigma.round(5)"
   ]
  },
  {
   "cell_type": "code",
   "execution_count": 12,
   "metadata": {},
   "outputs": [
    {
     "data": {
      "text/plain": [
       "array([[ 0.12688,  0.08049, -0.24702, -0.06123, -0.12746],\n",
       "       [ 0.08049,  0.32211, -0.5141 , -0.02136, -0.11754],\n",
       "       [-0.24702, -0.5141 ,  1.75585,  0.27775,  0.62338],\n",
       "       [-0.06123, -0.02136,  0.27775,  0.241  ,  0.21881],\n",
       "       [-0.12746, -0.11754,  0.62338,  0.21881,  0.43512]])"
      ]
     },
     "execution_count": 12,
     "metadata": {},
     "output_type": "execute_result"
    }
   ],
   "source": [
    "# estimated transformed Sigma\n",
    "m.Sigma.round(5)"
   ]
  },
  {
   "cell_type": "markdown",
   "metadata": {},
   "source": [
    "##### Compare to other estimators"
   ]
  },
  {
   "cell_type": "code",
   "execution_count": 13,
   "metadata": {},
   "outputs": [],
   "source": [
    "# OLS\n",
    "lm = LinearRegression(fit_intercept=False).fit(X, Y)\n",
    "B_ols = np.matrix(lm.coef_.transpose())\n",
    "# Ridge\n",
    "ridge = RidgeCV(fit_intercept=False).fit(X, Y)\n",
    "B_ridge = np.matrix(ridge.coef_.transpose())\n",
    "# Group Lasso\n",
    "gl = MultiTaskLassoCV(fit_intercept=False).fit(X, Y)\n",
    "B_gl = np.matrix(gl.coef_.transpose())"
   ]
  },
  {
   "cell_type": "code",
   "execution_count": 15,
   "metadata": {},
   "outputs": [
    {
     "name": "stdout",
     "output_type": "stream",
     "text": [
      "\n",
      "Model Error:\n",
      "============\n",
      "MrRCE: 1.802\n",
      "OLS: 3.299\n",
      "GL: 2.640\n",
      "Ridge: 2.759\n",
      "\n"
     ]
    }
   ],
   "source": [
    "# Model Error\n",
    "print(\n",
    "f\"\"\"\n",
    "Model Error:\n",
    "============\n",
    "MrRCE: {model_error(B, m.Gamma, Sigma_X):.3f}\n",
    "OLS: {model_error(B, B_ols, Sigma_X):.3f}\n",
    "GL: {model_error(B, B_gl, Sigma_X):.3f}\n",
    "Ridge: {model_error(B, B_ridge, Sigma_X):.3f}\n",
    "\"\"\"\n",
    ")"
   ]
  },
  {
   "cell_type": "markdown",
   "metadata": {},
   "source": [
    "##### Fit with no CV"
   ]
  },
  {
   "cell_type": "code",
   "execution_count": 21,
   "metadata": {},
   "outputs": [],
   "source": [
    "m = MrRCE(\n",
    "    max_iter=15,\n",
    "    tol_glasso=.01,\n",
    "    tol=1e-3, \n",
    "    glasso_cv=False, \n",
    "    lam=.15,\n",
    "    verbose=True\n",
    ") # init MrRCE"
   ]
  },
  {
   "cell_type": "code",
   "execution_count": 22,
   "metadata": {},
   "outputs": [
    {
     "name": "stderr",
     "output_type": "stream",
     "text": [
      "INFO:root:iter 1, loss 16.635404\n",
      "INFO:root:iter 2, loss 16.455052\n",
      "INFO:root:iter 3, loss 16.420933\n",
      "INFO:root:iter 4, loss 16.411809\n",
      "INFO:root:iter 5, loss 16.408841\n",
      "INFO:root:iter 6, loss 16.407830\n"
     ]
    }
   ],
   "source": [
    "m.fit(X, Y) # fit MrRCE"
   ]
  },
  {
   "cell_type": "code",
   "execution_count": 23,
   "metadata": {
    "scrolled": true
   },
   "outputs": [
    {
     "data": {
      "text/plain": [
       "array([[-1.0139 , -0.90582, -0.22931,  1.19986,  1.64887],\n",
       "       [ 1.3208 ,  0.06838,  0.54277,  0.42599,  1.47998],\n",
       "       [ 0.75434, -0.4997 , -2.06707,  0.34796, -0.90932],\n",
       "       [-0.67974, -0.14066,  1.12029,  1.34652, -0.74935],\n",
       "       [ 0.88775, -0.16864,  0.09862,  0.53726, -0.14598],\n",
       "       [-1.31383, -1.34721, -0.67829, -1.90229, -0.07604],\n",
       "       [ 0.55533, -1.06745, -0.1049 , -1.00327,  0.12742],\n",
       "       [-0.24322,  0.58774,  1.30768, -0.7581 , -1.078  ],\n",
       "       [ 0.60838,  1.98611,  1.93868,  1.22798,  1.67342],\n",
       "       [ 0.70883,  2.25516,  0.92604,  0.29409,  1.85053],\n",
       "       [ 1.06419,  0.39458,  0.72112,  1.84236, -0.20952],\n",
       "       [-0.97247, -1.03834, -1.39022, -2.36542, -0.58634],\n",
       "       [-0.39264,  0.13001,  0.89952,  0.686  ,  0.39972],\n",
       "       [-0.59106,  0.30556, -0.61749,  0.49697, -0.89062],\n",
       "       [ 2.46223,  2.13282,  0.59832, -0.16854,  1.97152],\n",
       "       [ 1.28698, -0.12796,  1.93031, -0.21601,  0.38485],\n",
       "       [ 0.37843, -0.73497, -0.42137, -0.74448, -0.53785],\n",
       "       [-0.91854,  0.53141,  0.69545,  0.60693,  0.80323],\n",
       "       [-0.95907, -0.73913, -1.04315, -1.32158, -0.60232],\n",
       "       [ 0.4432 ,  0.70455, -0.40885, -0.16801,  0.35527]])"
      ]
     },
     "execution_count": 23,
     "metadata": {},
     "output_type": "execute_result"
    }
   ],
   "source": [
    "m.Gamma.round(5) # coefficient matrix"
   ]
  },
  {
   "cell_type": "code",
   "execution_count": 24,
   "metadata": {},
   "outputs": [
    {
     "name": "stdout",
     "output_type": "stream",
     "text": [
      "\n",
      "Model Error:\n",
      "============\n",
      "MrRCE (no GLASSO cv): 1.931\n",
      "OLS: 3.299\n",
      "GL: 2.640\n",
      "Ridge: 2.759\n",
      "\n"
     ]
    }
   ],
   "source": [
    "# Model Error\n",
    "print(\n",
    "f\"\"\"\n",
    "Model Error:\n",
    "============\n",
    "MrRCE (no GLASSO cv): {model_error(B, m.Gamma, Sigma_X):.3f}\n",
    "OLS: {model_error(B, B_ols, Sigma_X):.3f}\n",
    "GL: {model_error(B, B_gl, Sigma_X):.3f}\n",
    "Ridge: {model_error(B, B_ridge, Sigma_X):.3f}\n",
    "\"\"\"\n",
    ")"
   ]
  }
 ],
 "metadata": {
  "anaconda-cloud": {},
  "kernelspec": {
   "display_name": "Python 3",
   "language": "python",
   "name": "python3"
  },
  "language_info": {
   "codemirror_mode": {
    "name": "ipython",
    "version": 3
   },
   "file_extension": ".py",
   "mimetype": "text/x-python",
   "name": "python",
   "nbconvert_exporter": "python",
   "pygments_lexer": "ipython3",
   "version": "3.6.8"
  }
 },
 "nbformat": 4,
 "nbformat_minor": 2
}
